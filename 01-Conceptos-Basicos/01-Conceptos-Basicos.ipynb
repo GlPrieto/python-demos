{
 "cells": [
  {
   "cell_type": "code",
   "execution_count": 2,
   "metadata": {},
   "outputs": [],
   "source": [
    "# Declaración de variables\n",
    "numero = 10\n",
    "Numero = 20\n",
    "saludo = \"¡Hola mundo!\""
   ]
  },
  {
   "cell_type": "code",
   "execution_count": null,
   "metadata": {},
   "outputs": [],
   "source": [
    "# Mostramos el contenido de las variables\n",
    "print(numero)\n",
    "print(Numero)\n",
    "print(saludo)\n",
    "\n",
    "print(35)\n",
    "print(\"Saludos\")"
   ]
  },
  {
   "cell_type": "code",
   "execution_count": null,
   "metadata": {},
   "outputs": [],
   "source": [
    "print(type(numero))\n",
    "print(type(saludo))"
   ]
  },
  {
   "cell_type": "code",
   "execution_count": null,
   "metadata": {},
   "outputs": [],
   "source": [
    "# Mostrar el tipo de diferentes valores utilizando la función TYPE\n",
    "print(type(3))\n",
    "print(type(3.4))\n",
    "print(type(\"3\"))\n",
    "print(type(\"tres\"))\n",
    "print(type(3==3))\n",
    "print(type(('1','2','3')))\n",
    "print(type([\"1\",\"2\",\"3\"]))\n",
    "print(type({\"1\",\"2\",\"3\"}))\n",
    "print(type([1,2,3]))"
   ]
  }
 ],
 "metadata": {
  "kernelspec": {
   "display_name": "Python 3",
   "language": "python",
   "name": "python3"
  },
  "language_info": {
   "codemirror_mode": {
    "name": "ipython",
    "version": 3
   },
   "file_extension": ".py",
   "mimetype": "text/x-python",
   "name": "python",
   "nbconvert_exporter": "python",
   "pygments_lexer": "ipython3",
   "version": "3.11.2"
  },
  "orig_nbformat": 4,
  "vscode": {
   "interpreter": {
    "hash": "9f72f0995ff91555cc63746f4a4db526cf6709697e26941b3c3985a6dcbd08f1"
   }
  }
 },
 "nbformat": 4,
 "nbformat_minor": 2
}
